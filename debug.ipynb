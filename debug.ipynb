{
 "cells": [
  {
   "cell_type": "code",
   "execution_count": 1,
   "metadata": {},
   "outputs": [],
   "source": [
    "import numpy as np\n",
    "from exponential_smoothing import ETS"
   ]
  },
  {
   "cell_type": "code",
   "execution_count": 2,
   "metadata": {},
   "outputs": [
    {
     "data": {
      "text/plain": [
       "0"
      ]
     },
     "execution_count": 2,
     "metadata": {},
     "output_type": "execute_result"
    }
   ],
   "source": [
    "import gc\n",
    "gc.collect()"
   ]
  },
  {
   "cell_type": "code",
   "execution_count": 3,
   "metadata": {},
   "outputs": [],
   "source": [
    "from exponential_smoothing.models.ets_models import *"
   ]
  },
  {
   "cell_type": "code",
   "execution_count": 4,
   "metadata": {},
   "outputs": [],
   "source": [
    "import sys, inspect\n",
    "clsmembers = inspect.getmembers(sys.modules[__name__], inspect.isclass)"
   ]
  },
  {
   "cell_type": "code",
   "execution_count": 5,
   "metadata": {},
   "outputs": [
    {
     "data": {
      "text/plain": [
       "[('ETS', exponential_smoothing.ETS.ETS),\n",
       " ('ETS_AAA', exponential_smoothing.models.ets_models.ETS_AAA),\n",
       " ('ETS_AAM', exponential_smoothing.models.ets_models.ETS_AAM),\n",
       " ('ETS_AAN', exponential_smoothing.models.ets_models.ETS_AAN),\n",
       " ('ETS_ANA', exponential_smoothing.models.ets_models.ETS_ANA),\n",
       " ('ETS_ANM', exponential_smoothing.models.ets_models.ETS_ANM),\n",
       " ('ETS_ANN', exponential_smoothing.models.ets_models.ETS_ANN),\n",
       " ('ETS_MAA', exponential_smoothing.models.ets_models.ETS_MAA),\n",
       " ('ETS_MAM', exponential_smoothing.models.ets_models.ETS_MAM),\n",
       " ('ETS_MAN', exponential_smoothing.models.ets_models.ETS_MAN),\n",
       " ('ETS_MNA', exponential_smoothing.models.ets_models.ETS_MNA),\n",
       " ('ETS_MNM', exponential_smoothing.models.ets_models.ETS_MNM),\n",
       " ('ETS_MNN', exponential_smoothing.models.ets_models.ETS_MNN),\n",
       " ('ETS_Model', exponential_smoothing.model.ETS_Model)]"
      ]
     },
     "execution_count": 5,
     "metadata": {},
     "output_type": "execute_result"
    }
   ],
   "source": [
    "clsmembers"
   ]
  },
  {
   "cell_type": "code",
   "execution_count": 6,
   "metadata": {},
   "outputs": [
    {
     "data": {
      "text/plain": [
       "exponential_smoothing.models.ets_models.ETS_AAA"
      ]
     },
     "execution_count": 6,
     "metadata": {},
     "output_type": "execute_result"
    }
   ],
   "source": [
    "c = clsmembers[1][1]\n",
    "c"
   ]
  },
  {
   "cell_type": "code",
   "execution_count": 7,
   "metadata": {},
   "outputs": [],
   "source": [
    "d = abs(np.random.randn(128,1)) + 5"
   ]
  },
  {
   "cell_type": "code",
   "execution_count": 8,
   "metadata": {},
   "outputs": [
    {
     "name": "stderr",
     "output_type": "stream",
     "text": [
      "c:\\Users\\Hasan\\Desktop\\Personal\\YZT\\TimeSeries\\sources\\time-series-analysis\\exponential_smoothing\\model.py:162: VisibleDeprecationWarning: Creating an ndarray from ragged nested sequences (which is a list-or-tuple of lists-or-tuples-or ndarrays with different lengths or shapes) is deprecated. If you meant to do this, you must specify 'dtype=object' when creating the ndarray.\n",
      "  return np.mean(np.square(np.array(errs)))\n",
      "c:\\Users\\Hasan\\Desktop\\Personal\\YZT\\TimeSeries\\sources\\time-series-analysis\\exponential_smoothing\\models\\ets_models.py:1052: UserWarning: To copy construct from a tensor, it is recommended to use sourceTensor.clone().detach() or sourceTensor.clone().detach().requires_grad_(True), rather than torch.tensor(sourceTensor).\n",
      "  seasonal = torch.tensor(self.initial_seasonals[0])\n",
      "c:\\Users\\Hasan\\Desktop\\Personal\\YZT\\TimeSeries\\sources\\time-series-analysis\\exponential_smoothing\\models\\ets_models.py:1058: UserWarning: To copy construct from a tensor, it is recommended to use sourceTensor.clone().detach() or sourceTensor.clone().detach().requires_grad_(True), rather than torch.tensor(sourceTensor).\n",
      "  seasonal = torch.tensor(self.initial_seasonals[index])\n"
     ]
    },
    {
     "ename": "IndexError",
     "evalue": "index 128 is out of bounds for dimension 0 with size 128",
     "output_type": "error",
     "traceback": [
      "\u001b[1;31m---------------------------------------------------------------------------\u001b[0m",
      "\u001b[1;31mTypeError\u001b[0m                                 Traceback (most recent call last)",
      "\u001b[1;32mc:\\Users\\Hasan\\Desktop\\Personal\\YZT\\TimeSeries\\sources\\time-series-analysis\\a.ipynb Cell 8\u001b[0m in \u001b[0;36m<cell line: 1>\u001b[1;34m()\u001b[0m\n\u001b[0;32m      <a href='vscode-notebook-cell:/c%3A/Users/Hasan/Desktop/Personal/YZT/TimeSeries/sources/time-series-analysis/a.ipynb#X24sZmlsZQ%3D%3D?line=0'>1</a>\u001b[0m \u001b[39mfor\u001b[39;00m glb \u001b[39min\u001b[39;00m clsmembers[\u001b[39m1\u001b[39m:\u001b[39m-\u001b[39m\u001b[39m1\u001b[39m]:\n\u001b[0;32m      <a href='vscode-notebook-cell:/c%3A/Users/Hasan/Desktop/Personal/YZT/TimeSeries/sources/time-series-analysis/a.ipynb#X24sZmlsZQ%3D%3D?line=2'>3</a>\u001b[0m     tmp \u001b[39m=\u001b[39m glb[\u001b[39m1\u001b[39m](d)\n\u001b[1;32m----> <a href='vscode-notebook-cell:/c%3A/Users/Hasan/Desktop/Personal/YZT/TimeSeries/sources/time-series-analysis/a.ipynb#X24sZmlsZQ%3D%3D?line=4'>5</a>\u001b[0m     tmp\u001b[39m.\u001b[39;49mfit()\n\u001b[0;32m      <a href='vscode-notebook-cell:/c%3A/Users/Hasan/Desktop/Personal/YZT/TimeSeries/sources/time-series-analysis/a.ipynb#X24sZmlsZQ%3D%3D?line=6'>7</a>\u001b[0m     tmp\u001b[39m.\u001b[39mpredict(\u001b[39m5\u001b[39m)\n",
      "File \u001b[1;32mc:\\Users\\Hasan\\Desktop\\Personal\\YZT\\TimeSeries\\sources\\time-series-analysis\\exponential_smoothing\\models\\ets_models.py:1062\u001b[0m, in \u001b[0;36mETS_AAA.fit\u001b[1;34m(self)\u001b[0m\n\u001b[0;32m   1060\u001b[0m lprev, bprev \u001b[39m=\u001b[39m \u001b[39mself\u001b[39m\u001b[39m.\u001b[39mlevel, \u001b[39mself\u001b[39m\u001b[39m.\u001b[39mtrend\n\u001b[0;32m   1061\u001b[0m \u001b[39mself\u001b[39m\u001b[39m.\u001b[39m__smooth_level(lprev, bprev)\n\u001b[1;32m-> 1062\u001b[0m \u001b[39mself\u001b[39;49m\u001b[39m.\u001b[39;49m__smooth_trend(lprev, bprev)\n\u001b[0;32m   1063\u001b[0m \u001b[39mself\u001b[39m\u001b[39m.\u001b[39mseasonals \u001b[39m=\u001b[39m torch\u001b[39m.\u001b[39mcat((\u001b[39mself\u001b[39m\u001b[39m.\u001b[39mseasonals, [seasonal]))\n\u001b[0;32m   1064\u001b[0m \u001b[39mself\u001b[39m\u001b[39m.\u001b[39mfitted[index] \u001b[39m=\u001b[39m torch\u001b[39m.\u001b[39madd(\u001b[39mself\u001b[39m\u001b[39m.\u001b[39mlevel, torch\u001b[39m.\u001b[39madd(\u001b[39mself\u001b[39m\u001b[39m.\u001b[39mtrend, seasonal))\n",
      "\u001b[1;31mTypeError\u001b[0m: __smooth_trend() takes 2 positional arguments but 3 were given"
     ]
    }
   ],
   "source": [
    "for glb in clsmembers[1:-1]:\n",
    "\n",
    "    tmp = glb[1](d)\n",
    "\n",
    "    tmp.fit()\n",
    "\n",
    "    tmp.predict(5)"
   ]
  },
  {
   "cell_type": "code",
   "execution_count": null,
   "metadata": {},
   "outputs": [],
   "source": [
    "exp = ETS(d, trend=\"add\", error=\"add\", damped_trend=False, seasonal=\"mul\", seasonal_periods=12)"
   ]
  },
  {
   "cell_type": "code",
   "execution_count": null,
   "metadata": {},
   "outputs": [],
   "source": [
    "exp.fit()"
   ]
  },
  {
   "cell_type": "code",
   "execution_count": null,
   "metadata": {},
   "outputs": [
    {
     "data": {
      "text/plain": [
       "<exponential_smoothing.models.ets_models.ETS_AAM at 0x23c31a55fa0>"
      ]
     },
     "execution_count": 12,
     "metadata": {},
     "output_type": "execute_result"
    }
   ],
   "source": [
    "exp"
   ]
  },
  {
   "cell_type": "code",
   "execution_count": null,
   "metadata": {},
   "outputs": [
    {
     "data": {
      "text/plain": [
       "{'alpha': 0.21670141403875065,\n",
       " 'beta': 6.152218267382936e-26,\n",
       " 'gamma': 6.993344217898508e-07,\n",
       " 'phi': 1}"
      ]
     },
     "execution_count": 13,
     "metadata": {},
     "output_type": "execute_result"
    }
   ],
   "source": [
    "exp.params"
   ]
  },
  {
   "cell_type": "code",
   "execution_count": null,
   "metadata": {},
   "outputs": [
    {
     "data": {
      "text/plain": [
       "tensor([5.3066, 5.7977, 5.6214, 5.4746, 5.7445], dtype=torch.float64)"
      ]
     },
     "execution_count": 14,
     "metadata": {},
     "output_type": "execute_result"
    }
   ],
   "source": [
    "exp.predict(5)"
   ]
  },
  {
   "cell_type": "code",
   "execution_count": null,
   "metadata": {},
   "outputs": [],
   "source": []
  }
 ],
 "metadata": {
  "kernelspec": {
   "display_name": "base",
   "language": "python",
   "name": "python3"
  },
  "language_info": {
   "codemirror_mode": {
    "name": "ipython",
    "version": 3
   },
   "file_extension": ".py",
   "mimetype": "text/x-python",
   "name": "python",
   "nbconvert_exporter": "python",
   "pygments_lexer": "ipython3",
   "version": "3.9.12"
  },
  "orig_nbformat": 4
 },
 "nbformat": 4,
 "nbformat_minor": 2
}
